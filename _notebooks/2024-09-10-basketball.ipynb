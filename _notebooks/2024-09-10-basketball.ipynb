{
 "cells": [
  {
   "cell_type": "raw",
   "metadata": {},
   "source": [
    "---\n",
    "layout: post\n",
    "title: Basketball\n",
    "description: Information about Basketball Here!\n",
    "permalink: /posts/basketball\n",
    "comments: True\n",
    "---"
   ]
  },
  {
   "cell_type": "markdown",
   "metadata": {},
   "source": [
    "Basketball is a team sport where two teams of five players each try to score points by throwing a ball through a hoop. The hoop is a circular metal ring attached to a backboard, and it's positioned 10 feet above the ground. The game is usually played on a rectangular court, with one hoop at each end.\n",
    "\n",
    "Here’s a simple breakdown:\n",
    "\n",
    "Objective: The main goal is to score more points than the opposing team by making the ball go through the opponent’s hoop, which is called a basket.\n",
    "\n",
    "Scoring:\n",
    "\n",
    "A regular basket is worth 2 points if made from inside a certain area called the three-point line.\n",
    "If a player shoots the ball from outside this line and makes it, the basket is worth 3 points.\n",
    "Free throws, which are unopposed shots taken from a line 15 feet away from the hoop, are worth 1 point each. These are awarded after certain fouls.\n",
    "Game Play:\n",
    "\n",
    "Players move the ball by dribbling (bouncing the ball on the floor while moving) or passing it to teammates.\n",
    "The team with the ball (offense) tries to score by getting close enough to the hoop to take a shot.\n",
    "The other team (defense) tries to stop them by blocking shots, stealing the ball, or forcing turnovers (mistakes that cause the offense to lose the ball).\n",
    "Time:\n",
    "\n",
    "Games are typically divided into quarters (four periods) or halves (two periods), depending on the level of play (e.g., NBA, college, or high school).\n",
    "The team with the most points at the end of the game wins.\n",
    "Fouls:\n",
    "\n",
    "Players can't make illegal contact with opponents, like pushing or hitting. Doing so results in a foul, which can lead to free throws or the opposing team getting possession of the ball.\n",
    "Positions:\n",
    "\n",
    "Players usually take on specific roles like guards (who handle the ball and set up plays), forwards (who score and defend), and a center (often the tallest player, who plays near the basket).\n",
    "Basketball is fast-paced, with constant movement, quick changes between offense and defense, and a lot of strategy involved. It's popular worldwide, and it's played both indoors and outdoors, in professional leagues, schools, and parks.\n",
    "\n",
    "I love playing a watching basketball. My favorite basketball team is the Golden State Warriors, and my favorite player is Stephen Curry.\n",
    "\n",
    "<img src=\"../images/gsw_logo.png\">\n",
    "<img src=\"../images/stephencurry.jpg\">"
   ]
  }
 ],
 "metadata": {
  "language_info": {
   "name": "python"
  }
 },
 "nbformat": 4,
 "nbformat_minor": 2
}

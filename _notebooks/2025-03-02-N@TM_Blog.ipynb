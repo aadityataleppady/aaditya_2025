{
 "cells": [
  {
   "cell_type": "raw",
   "metadata": {
    "vscode": {
     "languageId": "raw"
    }
   },
   "source": [
    "---\n",
    "layout: post\n",
    "title: N@TM Blog\n",
    "description: About N@TM\n",
    "permalink: /posts/natm_blog\n",
    "comments: True\n",
    "---"
   ]
  },
  {
   "cell_type": "markdown",
   "metadata": {},
   "source": [
    "<h3>Striverr<h3>\n",
    "\n",
    "At N@TM, I went to a project called Striverr, with features like Hobbies, a Step Tracker, and Quotes with the purpose of empowering growth and celebrating achievements. I liked the applications of Striverr in the real world since many people could use this to improve themselves. I suggested to improve their styling a bit, and add different functions for admins and users, which would make the site more secure.\n",
    "\n",
    "\n",
    "<h3></h3>\n",
    "\n",
    "\n",
    "\n",
    "Here are the pictures of me at N@TM:\n",
    "\n",
    "\n",
    "\n",
    "<h3>Own Project/Feature</h3>\n",
    "\n",
    "I was able to present my feature at N@TM to many people, describing how Packing Portal gives packing recommendations to users for their trip and demoing the functionality.\n",
    "<br>\n",
    "<br>\n",
    "\n",
    "Through a google form, our entire group got feedback on our presentation and website. Here are the results:\n",
    "<br>\n",
    "<br>\n",
    "\n",
    "- 4.42 - How unique was our project?\n",
    "<br>\n",
    "- 3.92 - How attractive was our website design?\n",
    "<br>\n",
    "- 4.42 - How easy was it to follow along to our presentation?\n",
    "<br>\n",
    "- 4.67 - How well did we serve the purpose of simplified traveling?\n",
    "<br>\n",
    "<br>\n",
    "One specific piece of feedback I got was:\n",
    "<br>\n",
    "<br>\n",
    "\"You should be able to add your own packing items instead of only being able to select items that are given.\"\n",
    "<br>\n",
    "<br>\n",
    "In order to improve, I can follow this feedback and add this functionality to my feature."
   ]
  }
 ],
 "metadata": {
  "language_info": {
   "name": "python"
  }
 },
 "nbformat": 4,
 "nbformat_minor": 2
}

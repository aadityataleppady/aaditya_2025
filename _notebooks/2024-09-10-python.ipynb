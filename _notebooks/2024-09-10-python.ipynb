{
 "cells": [
  {
   "cell_type": "raw",
   "metadata": {
    "vscode": {
     "languageId": "raw"
    }
   },
   "source": [
    "---\n",
    "layout: post\n",
    "title: Python Hacks\n",
    "description: These are some python hacks!\n",
    "permalink: /posts/python-hacks\n",
    "comments: True\n",
    "---"
   ]
  },
  {
   "cell_type": "code",
   "execution_count": 9,
   "metadata": {},
   "outputs": [
    {
     "name": "stdout",
     "output_type": "stream",
     "text": [
      "👍 Python is awesome! 😀\n",
      "👍 Basketball is also awesome! 🏀\n",
      "👍 Football is also awesome! 🏈\n",
      "These are some emojis related to this class! 🤖 🖥️ ⌨️ 💾 🧠 ⚙️ 📦\n"
     ]
    }
   ],
   "source": [
    "from emoji import emojize \n",
    "print(emojize(\":thumbs_up: Python is awesome! :grinning_face:\"))\n",
    "\n",
    "print(emojize(\":thumbs_up: Basketball is also awesome! :basketball:\"))\n",
    "print(emojize(\":thumbs_up: Football is also awesome! :american_football:\"))\n",
    "print(emojize(\"These are some emojis related to this class! :robot: :desktop_computer: :keyboard: :floppy_disk: :brain: :gear: :package:\"))\n",
    "\n",
    "\n"
   ]
  }
 ],
 "metadata": {
  "kernelspec": {
   "display_name": "venv",
   "language": "python",
   "name": "python3"
  },
  "language_info": {
   "codemirror_mode": {
    "name": "ipython",
    "version": 3
   },
   "file_extension": ".py",
   "mimetype": "text/x-python",
   "name": "python",
   "nbconvert_exporter": "python",
   "pygments_lexer": "ipython3",
   "version": "3.10.12"
  }
 },
 "nbformat": 4,
 "nbformat_minor": 2
}

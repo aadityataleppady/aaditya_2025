{
 "cells": [
  {
   "cell_type": "raw",
   "metadata": {},
   "source": [
    "---\n",
    "layout: post\n",
    "title: About Me\n",
    "description: Some fun facts about me\n",
    "permalink: /posts/AboutMe\n",
    "comments: True\n",
    "---"
   ]
  },
  {
   "cell_type": "markdown",
   "metadata": {},
   "source": [
    "Here are some fun facts about me:\n",
    "\n",
    "1. I play basketball. 🏀\n",
    "2. I play football for fun. 🏈\n",
    "3. I like to read and cook in my free time. 🧠\n",
    "4. My favorite football player is George Kittle. 🏈\n",
    "5. My birthday is on May 4th (May the fourth be with you). 😀\n",
    "6. I like to code for fun. 🖥️ ⌨️ \n",
    "7. I have one sibling (A brother). 😀\n",
    "8. My second favorite basketball player is Klay Thompson. 🏀"
   ]
  }
 ],
 "metadata": {
  "language_info": {
   "name": "python"
  }
 },
 "nbformat": 4,
 "nbformat_minor": 2
}

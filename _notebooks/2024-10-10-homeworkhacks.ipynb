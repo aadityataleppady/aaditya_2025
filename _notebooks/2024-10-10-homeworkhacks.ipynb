{
 "cells": [
  {
   "cell_type": "markdown",
   "metadata": {},
   "source": [
    "---\n",
    "layout: post\n",
    "title: Homework Hacks for 3.6-7\n",
    "description: These are the homework hacks. They might be in a different order.\n",
    "permalink: /posts/homeworkhacks\n",
    "comments: True\n",
    "---"
   ]
  },
  {
   "cell_type": "markdown",
   "metadata": {
    "vscode": {
     "languageId": "plaintext"
    }
   },
   "source": [
    "These are the homework hacks for 3.6 and 3.7"
   ]
  },
  {
   "cell_type": "markdown",
   "metadata": {},
   "source": [
    "Hack 1:\n",
    "\n",
    "Instructions: Your hack is to create a piece of code that compares two statements and checks if they are equal to each other\n",
    "\n",
    "My code:"
   ]
  },
  {
   "cell_type": "code",
   "execution_count": 36,
   "metadata": {},
   "outputs": [
    {
     "name": "stdout",
     "output_type": "stream",
     "text": [
      "The statements are not equal to each other :(\n"
     ]
    }
   ],
   "source": [
    "# statement:\n",
    "statement1 = \"This is a pretty cool statement\"\n",
    "statement2 = \"This is also a pretty cool statement\"\n",
    "\n",
    "# boolean\n",
    "check = statement1 == statement2\n",
    "\n",
    "# if statement to check if the statements are equal to each other\n",
    "if check:\n",
    "    print(\"The statements are equal to each other!\")\n",
    "else:\n",
    "    print(\"The statements are not equal to each other :(\")"
   ]
  },
  {
   "cell_type": "markdown",
   "metadata": {},
   "source": [
    "Hack 2:\n",
    "\n",
    "Instructions: \n",
    "\n",
    "Create a hack that compares two variables to one another, if they are true return “We are the same” if they are not check if they are the same length, if they are return “We are the same length!” If none of these are true return “We are not that similar :(”\n",
    "\n",
    "Hint: Use the len() function. len() function accepts a string as an input and outputs the string’s length\n",
    "\n",
    "My code:"
   ]
  },
  {
   "cell_type": "code",
   "execution_count": 37,
   "metadata": {},
   "outputs": [
    {
     "name": "stdout",
     "output_type": "stream",
     "text": [
      "We are the same length!\n"
     ]
    }
   ],
   "source": [
    "# two variables\n",
    "\n",
    "var1 = \"A cool string\"\n",
    "var2 = \"Cool variable\"\n",
    "\n",
    "# conditionals\n",
    "\n",
    "if var1 == var2:\n",
    "    print(\"We are the same\")\n",
    "elif len(var1) == len(var2):\n",
    "    print(\"We are the same length!\")\n",
    "else:\n",
    "    print(\"We are not that similar :(\")\n",
    "\n"
   ]
  },
  {
   "cell_type": "markdown",
   "metadata": {},
   "source": [
    "Hack 3:\n",
    "\n",
    "Instructions: Create a simple conditional statement like the ones above (do it in a different situation, so not baking)\n",
    "\n",
    "My code:"
   ]
  },
  {
   "cell_type": "code",
   "execution_count": 38,
   "metadata": {},
   "outputs": [
    {
     "name": "stdout",
     "output_type": "stream",
     "text": [
      "The water is boiling!\n"
     ]
    }
   ],
   "source": [
    "# variable in fahrenheit\n",
    "\n",
    "water_temp = 150\n",
    "\n",
    "# function\n",
    "\n",
    "def start_boiling():\n",
    "    print(\"The water is boiling!\")\n",
    "    \n",
    "if water_temp >= 100:\n",
    "    start_boiling() # calls the start_boiling function to start the boiling process"
   ]
  },
  {
   "cell_type": "markdown",
   "metadata": {},
   "source": [
    "Hack 4:\n",
    "\n",
    "Instructions: Create a basic hack that determines whether you are a child, teenager or adult when you input your age.\n",
    "\n",
    "My code:"
   ]
  },
  {
   "cell_type": "code",
   "execution_count": 39,
   "metadata": {},
   "outputs": [
    {
     "name": "stdout",
     "output_type": "stream",
     "text": [
      "The user is a teenager\n"
     ]
    }
   ],
   "source": [
    "# age\n",
    "age = 15\n",
    "\n",
    "# if statement to see if the person is a child, teenager, or adult\n",
    "\n",
    "if age >= 3 and age <=12:\n",
    "    print(\"The user is a child\")\n",
    "elif age >=13 and age <=17:\n",
    "    print(\"The user is a teenager\")\n",
    "else:\n",
    "    print(\"The user is an adult\")"
   ]
  },
  {
   "cell_type": "markdown",
   "metadata": {},
   "source": [
    "Hack 5:\n",
    "\n",
    "Instructions:\n",
    "\n",
    "Now it’s time to practice Nested Conditionals!\n",
    "\n",
    "- test out the examples above and change up the the starting values to play with how the conditions within eachother work\n",
    "- demonstrate knowledge of nested conditionals by creating your own nested conditional statements.\n",
    "\n",
    "My code:"
   ]
  },
  {
   "cell_type": "code",
   "execution_count": 40,
   "metadata": {},
   "outputs": [
    {
     "name": "stdout",
     "output_type": "stream",
     "text": [
      "You have the basic ingredients!\n",
      "Your cookie will have a taste!\n",
      "Your cookie doesn't have vanilla extract, it won't taste amazing but it works\n",
      "You have salt, this will balance the sweetness\n",
      "Your cookie doesn't have chocolate chips, it works but it doesn't look like a cookie.\n"
     ]
    }
   ],
   "source": [
    "# ingredients for cookie baking\n",
    "\n",
    "flour = True\n",
    "sugar = True\n",
    "butter = True\n",
    "eggs = True\n",
    "vanilla_extract = False\n",
    "salt = True\n",
    "chocolate_chips = False\n",
    "\n",
    "# logic when baking cookies\n",
    "\n",
    "if flour and butter and eggs:\n",
    "    print(\"You have the basic ingredients!\")\n",
    "    \n",
    "    if sugar:\n",
    "        print(\"Your cookie will have a taste!\")\n",
    "        \n",
    "        if vanilla_extract:\n",
    "            print(\"Your cookie has vanilla extract, your cookie will taste even better!\")\n",
    "        else:\n",
    "            print(\"Your cookie doesn't have vanilla extract, it won't taste amazing but it works\")\n",
    "            \n",
    "        if salt:\n",
    "            print(\"You have salt, this will balance the sweetness\")\n",
    "        else:\n",
    "            print(\"You don't have salt, the sweetness in your cookie might not be fully balanced\")\n",
    "        \n",
    "        if chocolate_chips:\n",
    "            print(\"Your cookie has chocolate chips, it looks like a cookie now!\")\n",
    "        else:\n",
    "            print(\"Your cookie doesn't have chocolate chips, it works but it doesn't look like a cookie.\")\n",
    "        \n",
    "    else:\n",
    "        print(\"Please add sugar, your cookie will taste very bad otherwise\")\n",
    "else:\n",
    "    print(\"You need flour, butter, and eggs to make a cake\")"
   ]
  },
  {
   "cell_type": "markdown",
   "metadata": {},
   "source": [
    "Hack 6:\n",
    "\n",
    "Instructions: Create a hack that asks the user to type the numbers up to 10. Not all at once.\n",
    "\n",
    "My code:\n"
   ]
  },
  {
   "cell_type": "code",
   "execution_count": null,
   "metadata": {},
   "outputs": [],
   "source": [
    "# input from the user (a number)\n",
    "\n",
    "number = 5\n",
    "\n",
    "# conditional to check if the number is before 10.\n",
    "if number >=1 and number <=10:\n",
    "    print(\"That number is before 10! Type another number!\")\n",
    "else:\n",
    "    print(\"That number is not before 10! Type another number!\")"
   ]
  }
 ],
 "metadata": {
  "kernelspec": {
   "display_name": "venv",
   "language": "python",
   "name": "python3"
  },
  "language_info": {
   "codemirror_mode": {
    "name": "ipython",
    "version": 3
   },
   "file_extension": ".py",
   "mimetype": "text/x-python",
   "name": "python",
   "nbconvert_exporter": "python",
   "pygments_lexer": "ipython3",
   "version": "3.10.12"
  }
 },
 "nbformat": 4,
 "nbformat_minor": 2
}

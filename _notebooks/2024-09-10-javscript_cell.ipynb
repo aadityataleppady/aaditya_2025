{
 "cells": [
  {
   "cell_type": "markdown",
   "metadata": {},
   "source": [
    "---\n",
    "layout: post\n",
    "title: Javascript Cell\n",
    "description: Let's run some javascript commands and functions!\n",
    "permalink: /posts/javascript_cell\n",
    "comments: True\n",
    "---"
   ]
  },
  {
   "cell_type": "code",
   "execution_count": 8,
   "metadata": {
    "vscode": {
     "languageId": "javascript"
    }
   },
   "outputs": [
    {
     "data": {
      "application/javascript": "// Data Types Hack\n\nconst myselfObject = {\n    name: \"Aaditya Taleppady\",\n    age: 15,\n    currentClasses: [\"3D Animation 2\", \"AP Calculus\", \"AP Chemistry\", \"AP English Seminar\", \"AP Computer Science Principles\"],\n    interests: [\"Coding\", \"Football\", \"Basketball\"],\n    extracurricularActivities: [\"CyberAegis\", \"Basketball\"],\n    favoriteFood: [\"Pasta\"]\n};\n\nconsole.log(myselfObject);\n\nmyselfObject.interests[0] = \"Watching youtube\";\n\nconsole.log(\"This is my object after manipulating my interests array:\", myselfObject);\nconsole.log(myselfObject.age - 7, \"is my age subtracted by 7\")\nconsole.log(\"The type of data of my age in my object is\",typeof myselfObject.age);\nconsole.log(\"The type of data of my name in my object is\",typeof myselfObject.name);\nconsole.log(\"The type of data of my interests in my object is\",typeof myselfObject.interests);\n\n// JavaScript Hacks\n\nlet a = 15;\nlet b = 20;\n\nif (a > b) {\n    console.log(\"a is greater\");\n} else if (b > a) {\n    console.log(\"b is greater\");\n} else {\n    console.log(\"both are equal\");\n}\n\n\n\nlet x = 10;\nlet y = 5;\n\n// Perform operations\nlet addition = x + y;\nlet subtraction = x - y;\nlet multiplication = x * y;\nlet division = x / y;\n\n// Print results to the console\nconsole.log(\"Addition: \" + addition);         // Output: Addition: 15\nconsole.log(\"Subtraction: \" + subtraction);   // Output: Subtraction: 5\nconsole.log(\"Multiplication: \" + multiplication); // Output: Multiplication: 50\nconsole.log(\"Division: \" + division);         // Output: Division: 2\n\n// Calculator:\n\n\n// Debugging Hack:\n\n//Segment 1: Alphabet List\n\nvar alphabet = \"abcdefghijklmnopqrstuvwxyz\";\nvar alphabetList = [];\n\nfor (var i = 0; i < 26; i++) {\n\talphabetList.push(i);\n}\n\nconsole.log(alphabetList);\n\nconsole.log(\"What I changed: I changed the length of the for loop to fit the length of the alphabet string. I changed it from 'i<10' to 'i<26', which allows the for loop to loop through the entire string.\");\n\n//Segment 2: Numbered Alphabet\n\n// Copy your previous code to built alphabetList here\n\nlet letterNumber = 5\n\nfor (var i = 0; i < alphabetList.length; i++) {\n\tif (i === letterNumber) {\n\t\tconsole.log(letterNumber + \" is letter number 5 in the alphabet\")\n\t}\n}\n\n// Should output:\n// \"e\" is letter number 5 in the alphabet\n\nconsole.log(\"What I changed: In the console.log, I changed it from 1 to 5, so it would output 'e is letter number 5 in the alphabet' instead of 'e is letter number 1 in the alphabet'. I also changed it from alphabetList to alphabetList.length in the for loop. I did this so that it would loop for the length of the list. If it was just alphabetList, the computer wouldn't know what to do since alphabetList is a string instead of an integer.\");\n\n",
      "text/plain": [
       "<IPython.core.display.Javascript object>"
      ]
     },
     "metadata": {},
     "output_type": "display_data"
    }
   ],
   "source": [
    "%%javascript\n",
    "// Data Types Hack\n",
    "\n",
    "const myselfObject = {\n",
    "    name: \"Aaditya Taleppady\",\n",
    "    age: 15,\n",
    "    currentClasses: [\"3D Animation 2\", \"AP Calculus\", \"AP Chemistry\", \"AP English Seminar\", \"AP Computer Science Principles\"],\n",
    "    interests: [\"Coding\", \"Football\", \"Basketball\"],\n",
    "    extracurricularActivities: [\"CyberAegis\", \"Basketball\"],\n",
    "    favoriteFood: [\"Pasta\"]\n",
    "};\n",
    "\n",
    "console.log(myselfObject);\n",
    "\n",
    "myselfObject.interests[0] = \"Watching youtube\";\n",
    "\n",
    "console.log(\"This is my object after manipulating my interests array:\", myselfObject);\n",
    "console.log(myselfObject.age - 7, \"is my age subtracted by 7\")\n",
    "console.log(\"The type of data of my age in my object is\",typeof myselfObject.age);\n",
    "console.log(\"The type of data of my name in my object is\",typeof myselfObject.name);\n",
    "console.log(\"The type of data of my interests in my object is\",typeof myselfObject.interests);\n",
    "\n",
    "// JavaScript Hacks\n",
    "\n",
    "let a = 15;\n",
    "let b = 20;\n",
    "\n",
    "if (a > b) {\n",
    "    console.log(\"a is greater\");\n",
    "} else if (b > a) {\n",
    "    console.log(\"b is greater\");\n",
    "} else {\n",
    "    console.log(\"both are equal\");\n",
    "}\n",
    "\n",
    "\n",
    "\n",
    "let x = 10;\n",
    "let y = 5;\n",
    "\n",
    "// Perform operations\n",
    "let addition = x + y;\n",
    "let subtraction = x - y;\n",
    "let multiplication = x * y;\n",
    "let division = x / y;\n",
    "\n",
    "// Print results to the console\n",
    "console.log(\"Addition: \" + addition);         // Output: Addition: 15\n",
    "console.log(\"Subtraction: \" + subtraction);   // Output: Subtraction: 5\n",
    "console.log(\"Multiplication: \" + multiplication); // Output: Multiplication: 50\n",
    "console.log(\"Division: \" + division);         // Output: Division: 2\n",
    "\n",
    "\n"
   ]
  },
  {
   "cell_type": "markdown",
   "metadata": {},
   "source": [
    "```\n",
    "{name: 'Aaditya Taleppady', age: 15, currentClasses: Array(5), interests: Array(3), extracurricularActivities: Array(2), …}\n",
    "8 'is my age subtracted by 7'\n",
    "The type of data of my age in my object is number\n",
    "The type of data of my name in my object is string\n",
    "The type of data of my interests in my object is object\n",
    "b is greater\n",
    "Addition: 15\n",
    "Subtraction: 5\n",
    "Multiplication: 50\n",
    "Division: 2\n",
    "\n",
    "```"
   ]
  }
 ],
 "metadata": {
  "kernelspec": {
   "display_name": "venv",
   "language": "python",
   "name": "python3"
  },
  "language_info": {
   "codemirror_mode": {
    "name": "ipython",
    "version": 3
   },
   "file_extension": ".py",
   "mimetype": "text/x-python",
   "name": "python",
   "nbconvert_exporter": "python",
   "pygments_lexer": "ipython3",
   "version": "3.10.12"
  }
 },
 "nbformat": 4,
 "nbformat_minor": 2
}

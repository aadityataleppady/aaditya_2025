{
 "cells": [
  {
   "cell_type": "raw",
   "metadata": {
    "vscode": {
     "languageId": "raw"
    }
   },
   "source": [
    "---\n",
    "layout: post\n",
    "title: Sprint 3 Reflection\n",
    "description: Sprint 3 Reflection\n",
    "permalink: /posts/sprint_3_reflection\n",
    "comments: True\n",
    "---"
   ]
  },
  {
   "cell_type": "markdown",
   "metadata": {},
   "source": [
    "For sprint 3, I worked on the backend, helping with the API and the connection between backend and frontend.\n",
    "\n",
    "Our group's project is called Instabox. Instabox is a social media site where the a robot (the server) sends the user a message at a random time every 24 hours. The message is a trivia question, and the faster the user responds, the higher score they get. All user scores are listed on the leaderboard. The frontend is where the user would type their messages, see messages, and see the leaderboard. The backend would store the messages and take care of the server trivia messages.\n",
    "\n",
    "I was working on the backend. Specifically, I helped implement the trivia messages from the server. This would allow the user to see the messages on the frontend. I also helped store the messages from the user and server in the backend, adding another level of functionality to our backend. Also, it allowed the chat messages to stay even after the tab is reloaded.\n",
    "\n",
    "In order to make the server send a trivia message to the user, our group had to implement a trivia API. In order to make the API, I chose an API from API Ninjas. Then, I helped get the trivia message from the API. Then, we fetched this data from the backend and displayed it on the frontend.\n",
    "\n",
    "My greatest accomplishment in Sprint 3 was storing the messages in the backend. This allowed the messages to stay even when reloading the page. In the beginning, It took some time to get the data, but after persisting, our group was able to get the API to work and store it in the backend. Overall, I learnt a lot in Sprint 3 and was able to help my group create a functioning and cool social media site."
   ]
  }
 ],
 "metadata": {
  "language_info": {
   "name": "python"
  }
 },
 "nbformat": 4,
 "nbformat_minor": 2
}
